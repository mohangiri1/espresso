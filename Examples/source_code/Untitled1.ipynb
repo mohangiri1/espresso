{
 "cells": [
  {
   "cell_type": "code",
   "execution_count": 2,
   "id": "fd77d4fe",
   "metadata": {
    "ExecuteTime": {
     "end_time": "2024-05-28T18:06:54.983060Z",
     "start_time": "2024-05-28T18:06:54.883920Z"
    }
   },
   "outputs": [
    {
     "data": {
      "image/png": "[encoded data removed]",
      "text/plain": [
       "<Figure size 432x288 with 1 Axes>"
      ]
     },
     "metadata": {
      "needs_background": "light"
     },
     "output_type": "display_data"
    }
   ],
   "source": [
    "import matplotlib.pyplot as plt\n",
    "\n",
    "class InteractivePlot:\n",
    "    def __init__(self, x, y):\n",
    "        self.x = x\n",
    "        self.y = y\n",
    "        self.selected_points = []\n",
    "\n",
    "        self.fig, self.ax = plt.subplots()\n",
    "        self.line, = self.ax.plot(x, y, 'o', picker=5)  # 'picker=5' makes the points selectable\n",
    "\n",
    "        self.cid = self.fig.canvas.mpl_connect('pick_event', self.onpick)\n",
    "        self.cid2 = self.fig.canvas.mpl_connect('button_press_event', self.onpress)\n",
    "\n",
    "    def onpick(self, event):\n",
    "        if event.artist != self.line:\n",
    "            return\n",
    "\n",
    "        ind = event.ind\n",
    "        x_values = self.x[ind]\n",
    "        y_values = self.y[ind]\n",
    "\n",
    "        for i in range(len(ind)):\n",
    "            print(f'Selected point: x={x_values[i]}, y={y_values[i]}')\n",
    "            self.selected_points.append((x_values[i], y_values[i]))\n",
    "\n",
    "    def onpress(self, event):\n",
    "        if event.dblclick:\n",
    "            print(\"All selected points:\")\n",
    "            for point in self.selected_points:\n",
    "                print(f'x={point[0]}, y={point[1]}')\n",
    "            self.selected_points.clear()  # Clear the selected points after printing\n",
    "\n",
    "    def show(self):\n",
    "        plt.show()\n",
    "\n",
    "# Sample data\n",
    "x = [1, 2, 3, 4, 5, 6, 7, 8, 9, 10]\n",
    "y = [2, 3, 5, 7, 11, 13, 17, 19, 23, 29]\n",
    "\n",
    "# Create and show interactive plot\n",
    "plot = InteractivePlot(x, y)\n",
    "plot.show()\n"
   ]
  },
  {
   "cell_type": "code",
   "execution_count": 3,
   "id": "f2c73f74",
   "metadata": {
    "ExecuteTime": {
     "end_time": "2024-05-28T18:09:33.104985Z",
     "start_time": "2024-05-28T18:09:04.614394Z"
    }
   },
   "outputs": [
    {
     "name": "stdout",
     "output_type": "stream",
     "text": [
      "Selected point: x=1, y=2\n",
      "Selected point: x=2, y=3\n",
      "Selected point: x=2, y=3\n",
      "All selected points:\n",
      "x=1, y=2\n",
      "x=2, y=3\n",
      "x=2, y=3\n",
      "Selected point: x=3, y=5\n",
      "Selected point: x=3, y=5\n",
      "All selected points:\n",
      "x=3, y=5\n",
      "x=3, y=5\n",
      "Selected point: x=4, y=7\n",
      "Selected point: x=4, y=7\n",
      "All selected points:\n",
      "x=4, y=7\n",
      "x=4, y=7\n"
     ]
    }
   ],
   "source": [
    "import tkinter as tk\n",
    "from matplotlib.figure import Figure\n",
    "from matplotlib.backends.backend_tkagg import FigureCanvasTkAgg\n",
    "import numpy as np\n",
    "\n",
    "class InteractivePlot:\n",
    "    def __init__(self, root, x, y):\n",
    "        self.root = root\n",
    "        self.x = x\n",
    "        self.y = y\n",
    "        self.selected_points = []\n",
    "\n",
    "        self.figure = Figure(figsize=(6, 4), dpi=100)\n",
    "        self.ax = self.figure.add_subplot(111)\n",
    "        self.line, = self.ax.plot(x, y, 'o', picker=5)  # 'picker=5' makes the points selectable\n",
    "\n",
    "        self.canvas = FigureCanvasTkAgg(self.figure, master=root)\n",
    "        self.canvas.draw()\n",
    "        self.canvas.get_tk_widget().pack(side=tk.TOP, fill=tk.BOTH, expand=1)\n",
    "\n",
    "        self.canvas.mpl_connect('pick_event', self.onpick)\n",
    "        self.canvas.mpl_connect('button_press_event', self.onpress)\n",
    "\n",
    "    def onpick(self, event):\n",
    "        if event.artist != self.line:\n",
    "            return\n",
    "\n",
    "        ind = event.ind\n",
    "        x_values = self.x[ind]\n",
    "        y_values = self.y[ind]\n",
    "\n",
    "        for i in range(len(ind)):\n",
    "            print(f'Selected point: x={x_values[i]}, y={y_values[i]}')\n",
    "            self.selected_points.append((x_values[i], y_values[i]))\n",
    "\n",
    "    def onpress(self, event):\n",
    "        if event.dblclick:\n",
    "            print(\"All selected points:\")\n",
    "            for point in self.selected_points:\n",
    "                print(f'x={point[0]}, y={point[1]}')\n",
    "            self.selected_points.clear()  # Clear the selected points after printing\n",
    "\n",
    "def main():\n",
    "    root = tk.Tk()\n",
    "    root.title(\"Interactive Plot with Tkinter\")\n",
    "\n",
    "    x = np.arange(1, 11)\n",
    "    y = np.array([2, 3, 5, 7, 11, 13, 17, 19, 23, 29])\n",
    "\n",
    "    plot = InteractivePlot(root, x, y)\n",
    "    \n",
    "    root.mainloop()\n",
    "\n",
    "if __name__ == \"__main__\":\n",
    "    main()\n"
   ]
  },
  {
   "cell_type": "code",
   "execution_count": null,
   "id": "3c797ed2",
   "metadata": {},
   "outputs": [],
   "source": []
  }
 ],
 "metadata": {
  "kernelspec": {
   "display_name": "Python 3 (ipykernel)",
   "language": "python",
   "name": "python3"
  },
  "language_info": {
   "codemirror_mode": {
    "name": "ipython",
    "version": 3
   },
   "file_extension": ".py",
   "mimetype": "text/x-python",
   "name": "python",
   "nbconvert_exporter": "python",
   "pygments_lexer": "ipython3",
   "version": "3.9.7"
  },
  "latex_envs": {
   "LaTeX_envs_menu_present": true,
   "autoclose": false,
   "autocomplete": true,
   "bibliofile": "biblio.bib",
   "cite_by": "apalike",
   "current_citInitial": 1,
   "eqLabelWithNumbers": true,
   "eqNumInitial": 1,
   "hotkeys": {
    "equation": "Ctrl-E",
    "itemize": "Ctrl-I"
   },
   "labels_anchors": false,
   "latex_user_defs": false,
   "report_style_numbering": false,
   "user_envs_cfg": false
  },
  "toc": {
   "base_numbering": 1,
   "nav_menu": {},
   "number_sections": true,
   "sideBar": true,
   "skip_h1_title": false,
   "title_cell": "Table of Contents",
   "title_sidebar": "Contents",
   "toc_cell": false,
   "toc_position": {},
   "toc_section_display": true,
   "toc_window_display": false
  },
  "varInspector": {
   "cols": {
    "lenName": 16,
    "lenType": 16,
    "lenVar": 40
   },
   "kernels_config": {
    "python": {
     "delete_cmd_postfix": "",
     "delete_cmd_prefix": "del ",
     "library": "var_list.py",
     "varRefreshCmd": "print(var_dic_list())"
    },
    "r": {
     "delete_cmd_postfix": ") ",
     "delete_cmd_prefix": "rm(",
     "library": "var_list.r",
     "varRefreshCmd": "cat(var_dic_list()) "
    }
   },
   "types_to_exclude": [
    "module",
    "function",
    "builtin_function_or_method",
    "instance",
    "_Feature"
   ],
   "window_display": false
  }
 },
 "nbformat": 4,
 "nbformat_minor": 5
}
