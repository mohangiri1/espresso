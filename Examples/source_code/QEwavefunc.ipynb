{
 "cells": [
  {
   "cell_type": "code",
   "execution_count": 9,
   "id": "7575b710",
   "metadata": {
    "ExecuteTime": {
     "end_time": "2024-05-21T22:46:06.464530Z",
     "start_time": "2024-05-21T22:46:06.421640Z"
    },
    "scrolled": true
   },
   "outputs": [],
   "source": [
    "import matplotlib.pyplot as plt\n",
    "import numpy as np\n",
    "\n",
    "def read_QEwavfunc(filename: str):\n",
    "    \"\"\"\n",
    "    Reads a Quantum ESPRESSO wave function file and extracts relevant data.\n",
    "\n",
    "    Parameters:\n",
    "    -----------\n",
    "    filename : str\n",
    "        The path to the Quantum ESPRESSO wave function file (usually with extension `wfc*.dat`).\n",
    "\n",
    "    Returns:\n",
    "    --------\n",
    "    tuple\n",
    "        A tuple containing the following elements:\n",
    "        \n",
    "        evc : ndarray\n",
    "            A complex array of shape (nbnd, npol*igwx) containing the wave function coefficients for each band.\n",
    "        \n",
    "        ik : int\n",
    "            The k-point index.\n",
    "        \n",
    "        xk : ndarray\n",
    "            A float array of shape (3,) containing the k-point coordinates.\n",
    "        \n",
    "        ispin : int\n",
    "            Spin component (1 for up, -1 for down)\n",
    "        \n",
    "        gamma_only : bool\n",
    "            A boolean flag indicating if the calculation is gamma-point only.\n",
    "        \n",
    "        scalef : float\n",
    "            Scaling factor for wavefunctions\n",
    "        \n",
    "        ngw : int\n",
    "            The number of G-vectors/Number of grid points.\n",
    "        \n",
    "        igwx : int\n",
    "            The extended number of G-vectors/Number of plane waves in one direction (used for FFT).\n",
    "        \n",
    "        npol : int\n",
    "            The number of polarizations (usually related to spin).\n",
    "        \n",
    "        nbnd : int\n",
    "            The number of bands.\n",
    "        \n",
    "        b1, b2, b3 : ndarray\n",
    "            Float arrays of shape (3,) representing the reciprocal lattice vectors/ Unit cell information (b1, b2, b3).\n",
    "        \n",
    "        mill : ndarray\n",
    "            An integer array of shape (igwx, 3) containing the Miller indices of the G-vectors.\n",
    "\n",
    "    Notes:\n",
    "    ------\n",
    "    This function is intended to be used with Quantum ESPRESSO wave function files and extracts\n",
    "    relevant data for further processing, such as plotting or calculation of matrix elements.\n",
    "\n",
    "    The binary format of the wave function file is specific to Quantum ESPRESSO and may change\n",
    "    between different versions. Ensure compatibility with the version of Quantum ESPRESSO used\n",
    "    to generate the file.\n",
    "\n",
    "    Example:\n",
    "    --------\n",
    "    >>> evc, ik, xk, ispin, gamma_only, scalef, ngw, igwx, npol, nbnd, b1, b2, b3, mill = read_QEwavfunc('path_to_wave_function_file.wfc')\n",
    "    \"\"\"\n",
    "    with open(filename, 'rb') as f:\n",
    "        # Moves the cursor 4 bytes to the right\n",
    "        f.seek(4)\n",
    "\n",
    "        ik = np.fromfile(f, dtype='int32', count=1)[0]\n",
    "        xk = np.fromfile(f, dtype='float64', count=3)\n",
    "        ispin = np.fromfile(f, dtype='int32', count=1)[0]\n",
    "        gamma_only = bool(np.fromfile(f, dtype='int32', count=1)[0])\n",
    "        scalef = np.fromfile(f, dtype='float64', count=1)[0]\n",
    "\n",
    "        # Move the cursor 8 bytes to the right\n",
    "        f.seek(8, 1)\n",
    "\n",
    "        ngw = np.fromfile(f, dtype='int32', count=1)[0]\n",
    "        igwx = np.fromfile(f, dtype='int32', count=1)[0]\n",
    "        npol = np.fromfile(f, dtype='int32', count=1)[0]\n",
    "        nbnd = np.fromfile(f, dtype='int32', count=1)[0]\n",
    "\n",
    "        # Move the cursor 8 bytes to the right\n",
    "        f.seek(8, 1)\n",
    "\n",
    "        b1 = np.fromfile(f, dtype='float64', count=3)\n",
    "        b2 = np.fromfile(f, dtype='float64', count=3)\n",
    "        b3 = np.fromfile(f, dtype='float64', count=3)\n",
    "\n",
    "        f.seek(8, 1)\n",
    "\n",
    "        mill = np.fromfile(f, dtype='int32', count=3 * igwx)\n",
    "        mill = mill.reshape((igwx, 3))\n",
    "\n",
    "        evc = np.zeros((nbnd, npol * igwx), dtype=\"complex128\")\n",
    "\n",
    "        f.seek(8, 1)\n",
    "        for i in range(nbnd):\n",
    "            evc[i, :] = np.fromfile(f, dtype='complex128', count=npol * igwx)\n",
    "            f.seek(8, 1)\n",
    "            \n",
    "        return evc, ik, xk, ispin, gamma_only, scalef, ngw, igwx, npol, nbnd, b1, b2, b3, mill\n",
    "    \n",
    "def calculate_transition_matrix(evc_initial, evc_final, operator):\n",
    "    \"\"\"\n",
    "    Calculate the transition matrix elements between initial and final wave functions using a given operator.\n",
    "\n",
    "    Parameters:\n",
    "    -----------\n",
    "    evc_initial : ndarray\n",
    "        The initial wave function coefficients.\n",
    "    \n",
    "    evc_final : ndarray\n",
    "        The final wave function coefficients.\n",
    "    \n",
    "    operator : ndarray\n",
    "        The operator matrix used for calculating transition elements.\n",
    "\n",
    "    Returns:\n",
    "    --------\n",
    "    complex\n",
    "        The transition matrix element.\n",
    "    \"\"\"\n",
    "    # Ensure the operator is correctly dimensioned\n",
    "    assert operator.shape == (evc_initial.shape[0], evc_initial.shape[0]), \"Operator shape mismatch.\"\n",
    "\n",
    "    # Compute the transition matrix elements\n",
    "    transition_matrix = np.vdot(evc_initial, np.dot(operator, evc_final))\n",
    "    return transition_matrix\n",
    "\n",
    "def plot_WavFunc(evc_band: list, band_index: int):\n",
    "    \"\"\"\n",
    "    Plots the magnitude of the wave function coefficients for a given band.\n",
    "\n",
    "    Parameters:\n",
    "    -----------\n",
    "    evc_band : list\n",
    "        A list or array-like object containing the wave function coefficients for a specific band.\n",
    "        The coefficients are typically complex numbers.\n",
    "        \n",
    "    band_index : int\n",
    "        An integer, index of the band which is returned as ik\n",
    "\n",
    "    Returns:\n",
    "    --------\n",
    "    None\n",
    "\n",
    "    This function generates a plot of the magnitudes of the wave function coefficients\n",
    "    (|coefficient|) against their G-vector indices.\n",
    "\n",
    "    Example:\n",
    "    --------\n",
    "    >>> evc_band = [1+1j, 2+2j, 3+3j, 4+4j]  # Example wave function coefficients\n",
    "    >>> plot_WavFunc(evc_band)\n",
    "\n",
    "    Notes:\n",
    "    ------\n",
    "    - The input `evc_band` should be a list or an array-like object containing complex or real numbers.\n",
    "    - The plot shows the magnitude of each coefficient, which is calculated using `np.abs`.\n",
    "    - This function is useful for visualizing the distribution of wave function coefficients in a specific band.\n",
    "    \"\"\"\n",
    "    plt.figure(figsize=(10, 6))\n",
    "    plt.plot(np.abs(evc_band), 'o')\n",
    "    plt.xlabel('G-vector index')\n",
    "    plt.ylabel('Magnitude of eigenvector coefficient')\n",
    "    plt.title(f'Wavefunction Coefficients for Band {band_index}')\n",
    "    plt.show()"
   ]
  },
  {
   "cell_type": "code",
   "execution_count": 14,
   "id": "e254c112",
   "metadata": {
    "ExecuteTime": {
     "end_time": "2024-05-21T22:52:12.078682Z",
     "start_time": "2024-05-21T22:52:11.880557Z"
    }
   },
   "outputs": [
    {
     "name": "stdout",
     "output_type": "stream",
     "text": [
      "Shape of evc: (26, 3832)\n",
      "Shape of first wave function: (3832,)\n",
      "Transition matrix elements: (-9.51845512131566e-10-3.513694125586997e-09j)\n"
     ]
    },
    {
     "data": {
      "image/png": "[encoded data removed]",
      "text/plain": [
       "<Figure size 720x432 with 1 Axes>"
      ]
     },
     "metadata": {
      "needs_background": "light"
     },
     "output_type": "display_data"
    }
   ],
   "source": [
    "# Example usage\n",
    "band_index = 260\n",
    "filename = f'./GaAs.save/wfc{band_index}.dat'\n",
    "# Load wave function data\n",
    "evc, ik, xk, ispin, gamma_only, scalef, ngw, igwx, npol, nbnd, b1, b2, b3, mill = read_QEwavfunc(filename)\n",
    "\n",
    "# Print shapes for debugging\n",
    "print(f\"Shape of evc: {evc.shape}\")\n",
    "print(f\"Shape of first wave function: {evc[0].shape}\")\n",
    "\n",
    "# Example operator (identity matrix for simplicity)\n",
    "operator = np.eye(igwx * npol)\n",
    "\n",
    "# Calculate transition matrix for the first and second bands as an example\n",
    "transition_matrix = calculate_transition_matrix(evc[0], evc[1], operator)\n",
    "print(\"Transition matrix elements:\", transition_matrix)\n",
    "\n",
    "# Plotting the magnitude of the wave function coefficients for the first band\n",
    "plot_WavFunc(evc[0], ik)\n"
   ]
  },
  {
   "cell_type": "code",
   "execution_count": 28,
   "id": "b1ea59ad",
   "metadata": {
    "ExecuteTime": {
     "end_time": "2024-05-21T23:23:33.048239Z",
     "start_time": "2024-05-21T23:23:33.044373Z"
    },
    "scrolled": true
   },
   "outputs": [],
   "source": [
    "for i in range(nbnd):\n",
    "    plot_WavFunc(evc[i], ik)"
   ]
  },
  {
   "cell_type": "markdown",
   "id": "f216db01",
   "metadata": {},
   "source": [
    "# Garbage"
   ]
  },
  {
   "cell_type": "code",
   "execution_count": 26,
   "id": "a7cbbd5a",
   "metadata": {
    "ExecuteTime": {
     "end_time": "2024-05-21T23:06:10.125479Z",
     "start_time": "2024-05-21T23:06:09.622876Z"
    }
   },
   "outputs": [
    {
     "name": "stdout",
     "output_type": "stream",
     "text": [
      "(26, 2, 13, 13, 13)\n"
     ]
    }
   ],
   "source": [
    "import numpy as np\n",
    "\n",
    "def create_real_space_wavefunc(evc, b1, b2, b3, mill, ngw, igwx, npol, nbnd):\n",
    "    \"\"\"\n",
    "    Converts wave function coefficients from reciprocal space to real space.\n",
    "\n",
    "    Parameters:\n",
    "    -----------\n",
    "    evc : ndarray\n",
    "        A complex array of shape (nbnd, npol*igwx) containing the wave function coefficients for each band.\n",
    "    \n",
    "    b1, b2, b3 : ndarray\n",
    "        Float arrays of shape (3,) representing the reciprocal lattice vectors.\n",
    "    \n",
    "    mill : ndarray\n",
    "        An integer array of shape (igwx, 3) containing the Miller indices of the G-vectors.\n",
    "    \n",
    "    ngw : int\n",
    "        The number of G-vectors.\n",
    "    \n",
    "    igwx : int\n",
    "        The extended number of G-vectors.\n",
    "    \n",
    "    npol : int\n",
    "        The number of polarizations (usually related to spin).\n",
    "    \n",
    "    nbnd : int\n",
    "        The number of bands.\n",
    "\n",
    "    Returns:\n",
    "    --------\n",
    "    real_space_wf : ndarray\n",
    "        A complex array representing the wave function in real space.\n",
    "    \"\"\"\n",
    "    # Calculate the grid dimensions from the number of G-vectors\n",
    "    nx = int(np.rint(ngw**(1/3)))\n",
    "    ny = nx\n",
    "    nz = nx\n",
    "\n",
    "    real_space_wf = np.zeros((nbnd, npol, nx, ny, nz), dtype=\"complex128\")\n",
    "\n",
    "    # Loop over each band and polarization\n",
    "    for band in range(nbnd):\n",
    "        for pol in range(npol):\n",
    "            # Reshape the coefficients for FFT\n",
    "            evc_band_pol = evc[band, pol*igwx:(pol+1)*igwx]\n",
    "            \n",
    "            # Create a 3D grid for reciprocal space coefficients\n",
    "            reciprocal_grid = np.zeros((nx, ny, nz), dtype=\"complex128\")\n",
    "            \n",
    "            # Populate the grid with the coefficients\n",
    "            for idx, gvec in enumerate(mill):\n",
    "                reciprocal_grid[gvec[0] % nx, gvec[1] % ny, gvec[2] % nz] = evc_band_pol[idx]\n",
    "            \n",
    "            # Perform the inverse FFT to get real space wave function\n",
    "            real_space_wf[band, pol] = np.fft.ifftn(reciprocal_grid) * np.prod([nx, ny, nz])\n",
    "    \n",
    "    return real_space_wf\n",
    "\n",
    "# Example usage\n",
    "# Load wave function data\n",
    "evc, ik, xk, ispin, gamma_only, scalef, ngw, igwx, npol, nbnd, b1, b2, b3, mill = read_QEwavfunc(filename)\n",
    "\n",
    "# Convert to real space wave function\n",
    "real_space_wf = create_real_space_wavefunc(evc, b1, b2, b3, mill, ngw, igwx, npol, nbnd)\n",
    "\n",
    "# real_space_wf is now a 5D array with shape (nbnd, npol, nx, ny, nz)\n",
    "print(real_space_wf.shape)\n"
   ]
  },
  {
   "cell_type": "code",
   "execution_count": 23,
   "id": "bf05799c",
   "metadata": {
    "ExecuteTime": {
     "end_time": "2024-05-21T23:02:30.252024Z",
     "start_time": "2024-05-21T23:02:30.226031Z"
    }
   },
   "outputs": [
    {
     "ename": "ValueError",
     "evalue": "non-broadcastable output operand with shape (8,8,8) doesn't match the broadcast shape (0,8,8,8)",
     "output_type": "error",
     "traceback": [
      "\u001b[0;31m---------------------------------------------------------------------------\u001b[0m",
      "\u001b[0;31mValueError\u001b[0m                                Traceback (most recent call last)",
      "\u001b[0;32m/var/folders/qb/2nb3dxks3p38pv8jbwg013380000gn/T/ipykernel_34319/560795572.py\u001b[0m in \u001b[0;36m<module>\u001b[0;34m\u001b[0m\n\u001b[1;32m     45\u001b[0m \u001b[0mevc\u001b[0m\u001b[0;34m,\u001b[0m \u001b[0mik\u001b[0m\u001b[0;34m,\u001b[0m \u001b[0mxk\u001b[0m\u001b[0;34m,\u001b[0m \u001b[0mispin\u001b[0m\u001b[0;34m,\u001b[0m \u001b[0mgamma_only\u001b[0m\u001b[0;34m,\u001b[0m \u001b[0mscalef\u001b[0m\u001b[0;34m,\u001b[0m \u001b[0mngw\u001b[0m\u001b[0;34m,\u001b[0m \u001b[0migwx\u001b[0m\u001b[0;34m,\u001b[0m \u001b[0mnpol\u001b[0m\u001b[0;34m,\u001b[0m \u001b[0mnbnd\u001b[0m\u001b[0;34m,\u001b[0m \u001b[0mb1\u001b[0m\u001b[0;34m,\u001b[0m \u001b[0mb2\u001b[0m\u001b[0;34m,\u001b[0m \u001b[0mb3\u001b[0m\u001b[0;34m,\u001b[0m \u001b[0mmill\u001b[0m \u001b[0;34m=\u001b[0m \u001b[0mread_QEwavfunc\u001b[0m\u001b[0;34m(\u001b[0m\u001b[0mfilename\u001b[0m\u001b[0;34m)\u001b[0m\u001b[0;34m\u001b[0m\u001b[0;34m\u001b[0m\u001b[0m\n\u001b[1;32m     46\u001b[0m \u001b[0mng\u001b[0m \u001b[0;34m=\u001b[0m \u001b[0;36m8\u001b[0m  \u001b[0;31m# Example grid size in real space\u001b[0m\u001b[0;34m\u001b[0m\u001b[0;34m\u001b[0m\u001b[0m\n\u001b[0;32m---> 47\u001b[0;31m \u001b[0mreal_space_wavfunc\u001b[0m \u001b[0;34m=\u001b[0m \u001b[0mwavefunc_to_real_space\u001b[0m\u001b[0;34m(\u001b[0m\u001b[0mevc\u001b[0m\u001b[0;34m[\u001b[0m\u001b[0;36m0\u001b[0m\u001b[0;34m]\u001b[0m\u001b[0;34m,\u001b[0m \u001b[0mb1\u001b[0m\u001b[0;34m,\u001b[0m \u001b[0mb2\u001b[0m\u001b[0;34m,\u001b[0m \u001b[0mb3\u001b[0m\u001b[0;34m,\u001b[0m \u001b[0mmill\u001b[0m\u001b[0;34m,\u001b[0m \u001b[0mng\u001b[0m\u001b[0;34m,\u001b[0m \u001b[0migwx\u001b[0m\u001b[0;34m)\u001b[0m\u001b[0;34m\u001b[0m\u001b[0;34m\u001b[0m\u001b[0m\n\u001b[0m",
      "\u001b[0;32m/var/folders/qb/2nb3dxks3p38pv8jbwg013380000gn/T/ipykernel_34319/560795572.py\u001b[0m in \u001b[0;36mwavefunc_to_real_space\u001b[0;34m(evc, b1, b2, b3, mill, ng, igwx)\u001b[0m\n\u001b[1;32m     38\u001b[0m         \u001b[0mG\u001b[0m \u001b[0;34m=\u001b[0m \u001b[0mmill\u001b[0m\u001b[0;34m[\u001b[0m\u001b[0mi\u001b[0m\u001b[0;34m,\u001b[0m \u001b[0;36m0\u001b[0m\u001b[0;34m]\u001b[0m \u001b[0;34m*\u001b[0m \u001b[0mb1\u001b[0m \u001b[0;34m+\u001b[0m \u001b[0mmill\u001b[0m\u001b[0;34m[\u001b[0m\u001b[0mi\u001b[0m\u001b[0;34m,\u001b[0m \u001b[0;36m1\u001b[0m\u001b[0;34m]\u001b[0m \u001b[0;34m*\u001b[0m \u001b[0mb2\u001b[0m \u001b[0;34m+\u001b[0m \u001b[0mmill\u001b[0m\u001b[0;34m[\u001b[0m\u001b[0mi\u001b[0m\u001b[0;34m,\u001b[0m \u001b[0;36m2\u001b[0m\u001b[0;34m]\u001b[0m \u001b[0;34m*\u001b[0m \u001b[0mb3\u001b[0m\u001b[0;34m\u001b[0m\u001b[0;34m\u001b[0m\u001b[0m\n\u001b[1;32m     39\u001b[0m         \u001b[0mphase\u001b[0m \u001b[0;34m=\u001b[0m \u001b[0mnp\u001b[0m\u001b[0;34m.\u001b[0m\u001b[0mexp\u001b[0m\u001b[0;34m(\u001b[0m\u001b[0;36m2j\u001b[0m \u001b[0;34m*\u001b[0m \u001b[0mnp\u001b[0m\u001b[0;34m.\u001b[0m\u001b[0mpi\u001b[0m \u001b[0;34m*\u001b[0m \u001b[0;34m(\u001b[0m\u001b[0mG\u001b[0m\u001b[0;34m[\u001b[0m\u001b[0;36m0\u001b[0m\u001b[0;34m]\u001b[0m \u001b[0;34m*\u001b[0m \u001b[0mX\u001b[0m \u001b[0;34m+\u001b[0m \u001b[0mG\u001b[0m\u001b[0;34m[\u001b[0m\u001b[0;36m1\u001b[0m\u001b[0;34m]\u001b[0m \u001b[0;34m*\u001b[0m \u001b[0mY\u001b[0m \u001b[0;34m+\u001b[0m \u001b[0mG\u001b[0m\u001b[0;34m[\u001b[0m\u001b[0;36m2\u001b[0m\u001b[0;34m]\u001b[0m \u001b[0;34m*\u001b[0m \u001b[0mZ\u001b[0m\u001b[0;34m)\u001b[0m\u001b[0;34m)\u001b[0m\u001b[0;34m\u001b[0m\u001b[0;34m\u001b[0m\u001b[0m\n\u001b[0;32m---> 40\u001b[0;31m         \u001b[0mreal_space_wavfunc\u001b[0m \u001b[0;34m+=\u001b[0m \u001b[0mevc\u001b[0m\u001b[0;34m[\u001b[0m\u001b[0;34m:\u001b[0m\u001b[0mi\u001b[0m\u001b[0;34m]\u001b[0m\u001b[0;34m[\u001b[0m\u001b[0;34m:\u001b[0m\u001b[0;34m,\u001b[0m \u001b[0mnp\u001b[0m\u001b[0;34m.\u001b[0m\u001b[0mnewaxis\u001b[0m\u001b[0;34m,\u001b[0m \u001b[0mnp\u001b[0m\u001b[0;34m.\u001b[0m\u001b[0mnewaxis\u001b[0m\u001b[0;34m,\u001b[0m \u001b[0mnp\u001b[0m\u001b[0;34m.\u001b[0m\u001b[0mnewaxis\u001b[0m\u001b[0;34m]\u001b[0m \u001b[0;34m*\u001b[0m \u001b[0mphase\u001b[0m\u001b[0;34m\u001b[0m\u001b[0;34m\u001b[0m\u001b[0m\n\u001b[0m\u001b[1;32m     41\u001b[0m \u001b[0;34m\u001b[0m\u001b[0m\n\u001b[1;32m     42\u001b[0m     \u001b[0;32mreturn\u001b[0m \u001b[0mreal_space_wavfunc\u001b[0m\u001b[0;34m\u001b[0m\u001b[0;34m\u001b[0m\u001b[0m\n",
      "\u001b[0;31mValueError\u001b[0m: non-broadcastable output operand with shape (8,8,8) doesn't match the broadcast shape (0,8,8,8)"
     ]
    }
   ],
   "source": [
    "import numpy as np\n",
    "\n",
    "def wavefunc_to_real_space(evc, b1, b2, b3, mill, ng, igwx):\n",
    "    \"\"\"\n",
    "    Converts wave function coefficients from reciprocal space to real space.\n",
    "\n",
    "    Parameters:\n",
    "    -----------\n",
    "    evc : ndarray\n",
    "        A complex array of shape (nbnd, npol*igwx) containing the wave function coefficients for each band.\n",
    "        \n",
    "    b1, b2, b3 : ndarray\n",
    "        Float arrays of shape (3,) representing the reciprocal lattice vectors.\n",
    "        \n",
    "    mill : ndarray\n",
    "        An integer array of shape (igwx, 3) containing the Miller indices of the G-vectors.\n",
    "        \n",
    "    ng : int\n",
    "        The number of grid points in real space.\n",
    "        \n",
    "    igwx : int\n",
    "        The extended number of G-vectors.\n",
    "    \n",
    "    Returns:\n",
    "    --------\n",
    "    real_space_wavfunc : ndarray\n",
    "        A complex array of shape (ng, ng, ng) representing the wave function in real space.\n",
    "    \"\"\"\n",
    "    # Create the grid in real space\n",
    "    x = np.linspace(0, 1, ng, endpoint=False)\n",
    "    y = np.linspace(0, 1, ng, endpoint=False)\n",
    "    z = np.linspace(0, 1, ng, endpoint=False)\n",
    "    X, Y, Z = np.meshgrid(x, y, z, indexing='ij')\n",
    "\n",
    "    real_space_wavfunc = np.zeros((ng, ng, ng), dtype=complex)\n",
    "\n",
    "    for i in range(igwx):\n",
    "        G = mill[i, 0] * b1 + mill[i, 1] * b2 + mill[i, 2] * b3\n",
    "        phase = np.exp(2j * np.pi * (G[0] * X + G[1] * Y + G[2] * Z))\n",
    "        real_space_wavfunc += evc[:i][:, np.newaxis, np.newaxis, np.newaxis] * phase\n",
    "\n",
    "    return real_space_wavfunc\n",
    "\n",
    "# Example usage\n",
    "evc, ik, xk, ispin, gamma_only, scalef, ngw, igwx, npol, nbnd, b1, b2, b3, mill = read_QEwavfunc(filename)\n",
    "ng = 8  # Example grid size in real space\n",
    "real_space_wavfunc = wavefunc_to_real_space(evc[0], b1, b2, b3, mill, ng, igwx)\n"
   ]
  },
  {
   "cell_type": "code",
   "execution_count": 27,
   "id": "43ad5c90",
   "metadata": {
    "ExecuteTime": {
     "end_time": "2024-05-21T23:06:15.289598Z",
     "start_time": "2024-05-21T23:06:14.698807Z"
    }
   },
   "outputs": [
    {
     "data": {
      "image/png": "[encoded data removed]",
      "text/plain": [
       "<Figure size 720x576 with 2 Axes>"
      ]
     },
     "metadata": {
      "needs_background": "light"
     },
     "output_type": "display_data"
    }
   ],
   "source": [
    "def plot_real_space_wavefunc(real_space_wf, band=0, pol=0, slice_idx=None):\n",
    "    \"\"\"\n",
    "    Plots the real-space wave function for a specified band and polarization.\n",
    "\n",
    "    Parameters:\n",
    "    -----------\n",
    "    real_space_wf : ndarray\n",
    "        A complex array representing the wave function in real space.\n",
    "    \n",
    "    band : int, optional\n",
    "        The band index to plot. Default is 0.\n",
    "    \n",
    "    pol : int, optional\n",
    "        The polarization index to plot. Default is 0.\n",
    "    \n",
    "    slice_idx : int, optional\n",
    "        The index of the slice to plot along the z-axis. If None, the middle slice is used. Default is None.\n",
    "\n",
    "    Returns:\n",
    "    --------\n",
    "    None\n",
    "    \"\"\"\n",
    "    # Select the specified slice or the middle slice by default\n",
    "    if slice_idx is None:\n",
    "        slice_idx = real_space_wf.shape[3] // 2\n",
    "    \n",
    "    # Extract the specified band and polarization\n",
    "    wavefunc_slice = real_space_wf[band, pol, :, :, slice_idx]\n",
    "    \n",
    "    # Plot the magnitude of the wave function in real space\n",
    "    plt.figure(figsize=(10, 8))\n",
    "    plt.imshow(np.abs(wavefunc_slice), origin='lower', cmap='viridis')\n",
    "    plt.colorbar(label='Magnitude')\n",
    "    plt.title(f'Real-space Wavefunction for Band {band+1}, Polarization {pol+1}, Slice {slice_idx}')\n",
    "    plt.xlabel('X index')\n",
    "    plt.ylabel('Y index')\n",
    "    plt.show()\n",
    "\n",
    "# Example usage\n",
    "# Load wave function data\n",
    "evc, ik, xk, ispin, gamma_only, scalef, ngw, igwx, npol, nbnd, b1, b2, b3, mill = read_QEwavfunc(filename)\n",
    "\n",
    "# Convert to real space wave function\n",
    "real_space_wf = create_real_space_wavefunc(evc, b1, b2, b3, mill, ngw, igwx, npol, nbnd)\n",
    "\n",
    "# Plot the real-space wave function for the first band and first polarization\n",
    "plot_real_space_wavefunc(real_space_wf, band=0, pol=0)"
   ]
  },
  {
   "cell_type": "code",
   "execution_count": null,
   "id": "18be6fca",
   "metadata": {},
   "outputs": [],
   "source": []
  }
 ],
 "metadata": {
  "kernelspec": {
   "display_name": "Python 3 (ipykernel)",
   "language": "python",
   "name": "python3"
  },
  "language_info": {
   "codemirror_mode": {
    "name": "ipython",
    "version": 3
   },
   "file_extension": ".py",
   "mimetype": "text/x-python",
   "name": "python",
   "nbconvert_exporter": "python",
   "pygments_lexer": "ipython3",
   "version": "3.9.7"
  },
  "latex_envs": {
   "LaTeX_envs_menu_present": true,
   "autoclose": false,
   "autocomplete": true,
   "bibliofile": "biblio.bib",
   "cite_by": "apalike",
   "current_citInitial": 1,
   "eqLabelWithNumbers": true,
   "eqNumInitial": 1,
   "hotkeys": {
    "equation": "Ctrl-E",
    "itemize": "Ctrl-I"
   },
   "labels_anchors": false,
   "latex_user_defs": false,
   "report_style_numbering": false,
   "user_envs_cfg": false
  },
  "toc": {
   "base_numbering": 1,
   "nav_menu": {},
   "number_sections": true,
   "sideBar": true,
   "skip_h1_title": false,
   "title_cell": "Table of Contents",
   "title_sidebar": "Contents",
   "toc_cell": false,
   "toc_position": {},
   "toc_section_display": true,
   "toc_window_display": false
  },
  "varInspector": {
   "cols": {
    "lenName": 16,
    "lenType": 16,
    "lenVar": 40
   },
   "kernels_config": {
    "python": {
     "delete_cmd_postfix": "",
     "delete_cmd_prefix": "del ",
     "library": "var_list.py",
     "varRefreshCmd": "print(var_dic_list())"
    },
    "r": {
     "delete_cmd_postfix": ") ",
     "delete_cmd_prefix": "rm(",
     "library": "var_list.r",
     "varRefreshCmd": "cat(var_dic_list()) "
    }
   },
   "types_to_exclude": [
    "module",
    "function",
    "builtin_function_or_method",
    "instance",
    "_Feature"
   ],
   "window_display": false
  }
 },
 "nbformat": 4,
 "nbformat_minor": 5
}
